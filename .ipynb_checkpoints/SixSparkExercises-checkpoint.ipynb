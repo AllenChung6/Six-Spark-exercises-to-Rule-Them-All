{
 "cells": [
  {
   "cell_type": "code",
   "execution_count": 1,
   "id": "f9a2fed7",
   "metadata": {},
   "outputs": [],
   "source": [
    "import pyspark\n",
    "from pyspark.sql import SparkSession\n",
    "from pyspark.sql.functions import *"
   ]
  },
  {
   "cell_type": "code",
   "execution_count": 2,
   "id": "1c720784",
   "metadata": {},
   "outputs": [
    {
     "name": "stderr",
     "output_type": "stream",
     "text": [
      "22/04/24 13:20:36 WARN Utils: Your hostname, Zipcoders-MacBook-Pro.local resolves to a loopback address: 127.0.0.1; using 192.168.0.77 instead (on interface en0)\n",
      "22/04/24 13:20:36 WARN Utils: Set SPARK_LOCAL_IP if you need to bind to another address\n",
      "22/04/24 13:20:37 WARN NativeCodeLoader: Unable to load native-hadoop library for your platform... using builtin-java classes where applicable\n",
      "Using Spark's default log4j profile: org/apache/spark/log4j-defaults.properties\n",
      "Setting default log level to \"WARN\".\n",
      "To adjust logging level use sc.setLogLevel(newLevel). For SparkR, use setLogLevel(newLevel).\n"
     ]
    }
   ],
   "source": [
    "# Create spark session\n",
    "spark = SparkSession.builder \\\n",
    " .master(\"local\") \\\n",
    " .config(\"spark.sql.autoBroadcastJoinThreshold\", -1) \\\n",
    " .config(\"spark.executor.memory\", \"500mb\") \\\n",
    " .appName(\"Exercise1\") \\\n",
    " .getOrCreate()"
   ]
  },
  {
   "cell_type": "markdown",
   "id": "80aed580",
   "metadata": {},
   "source": [
    "# Warm-up #1"
   ]
  },
  {
   "cell_type": "markdown",
   "id": "4b958e1c",
   "metadata": {},
   "source": [
    "Find out how many orders, how many products and how many\n",
    "sellers are in the data."
   ]
  },
  {
   "cell_type": "code",
   "execution_count": 5,
   "id": "bc45cf6a",
   "metadata": {},
   "outputs": [
    {
     "name": "stderr",
     "output_type": "stream",
     "text": [
      "                                                                                \r"
     ]
    }
   ],
   "source": [
    "# Read parquet files into dataframes\n",
    "sales_df = spark.read.parquet(\"/Users/allenc/PyCharmProjects/JupyterProjects/DatasetToCompleteTheSixSparkExercises/sales_parquet/*/\")\n",
    "products_df = spark.read.parquet(\"/Users/allenc/PyCharmProjects/JupyterProjects/DatasetToCompleteTheSixSparkExercises/products_parquet/*/\")\n",
    "sellers_df = spark.read.parquet(\"/Users/allenc/PyCharmProjects/JupyterProjects/DatasetToCompleteTheSixSparkExercises/sellers_parquet/*/\")"
   ]
  },
  {
   "cell_type": "code",
   "execution_count": 4,
   "id": "92db7b39",
   "metadata": {},
   "outputs": [
    {
     "name": "stderr",
     "output_type": "stream",
     "text": [
      "\r",
      "[Stage 4:>                                                          (0 + 1) / 1]\r"
     ]
    },
    {
     "name": "stdout",
     "output_type": "stream",
     "text": [
      "+--------+----------+---------+----------+---------------+--------------------+\n",
      "|order_id|product_id|seller_id|      date|num_pieces_sold|       bill_raw_text|\n",
      "+--------+----------+---------+----------+---------------+--------------------+\n",
      "|       1|         0|        0|2020-07-10|             26|kyeibuumwlyhuwksx...|\n",
      "|       2|         0|        0|2020-07-08|             13|jfyuoyfkeyqkckwbu...|\n",
      "|       3|         0|        0|2020-07-05|             38|uyjihlzhzcswxcccx...|\n",
      "|       4|         0|        0|2020-07-05|             56|umnxvoqbdzpbwjqmz...|\n",
      "|       5|         0|        0|2020-07-05|             11|zmqexmaawmvdpqhih...|\n",
      "|       6|         0|        0|2020-07-01|             82|lmuhhkpyuoyslwmvX...|\n",
      "|       7|         0|        0|2020-07-04|             15|zoqweontumefxbgvu...|\n",
      "|       8|         0|        0|2020-07-08|             79|sgldfgtcxufasnvsc...|\n",
      "|       9|         0|        0|2020-07-10|             25|jnykelwjjebgkwgmu...|\n",
      "|      10|         0|        0|2020-07-08|              8|yywjfihneygcvfnyl...|\n",
      "|      11|         0|        0|2020-07-01|             10|nxwejyoeznltdhcam...|\n",
      "|      12|         0|        0|2020-07-06|             45|efmymeftivwsfljzt...|\n",
      "|      13|         0|        0|2020-07-10|             63|nxhvtospPhfnkavdy...|\n",
      "|      14|         0|        0|2020-07-03|             22|ypyusdsjzfpfbucnn...|\n",
      "|      15|         0|        0|2020-07-09|             75|ymjvbhaxffyjcwzyn...|\n",
      "|      16|         0|        0|2020-07-10|             83|phbcykkhvqsbkipwa...|\n",
      "|      17|         0|        0|2020-07-04|             54|qgnGqqnjmbqZytoug...|\n",
      "|      18|         0|        0|2020-07-04|             58|ozmllbabrnhebWcex...|\n",
      "|      19|         0|        0|2020-07-07|             33|kbrvXuzgiuinodtkg...|\n",
      "|      20|         0|        0|2020-07-09|             73|jnqjzaigjtqlfwpug...|\n",
      "+--------+----------+---------+----------+---------------+--------------------+\n",
      "only showing top 20 rows\n",
      "\n"
     ]
    },
    {
     "name": "stderr",
     "output_type": "stream",
     "text": [
      "\r",
      "                                                                                \r"
     ]
    }
   ],
   "source": [
    "sales_df.show()"
   ]
  },
  {
   "cell_type": "code",
   "execution_count": 5,
   "id": "a8e791e9",
   "metadata": {},
   "outputs": [
    {
     "name": "stdout",
     "output_type": "stream",
     "text": [
      "+----------+------------+-----+\n",
      "|product_id|product_name|price|\n",
      "+----------+------------+-----+\n",
      "|         0|   product_0|   22|\n",
      "|         1|   product_1|   30|\n",
      "|         2|   product_2|   91|\n",
      "|         3|   product_3|   37|\n",
      "|         4|   product_4|  145|\n",
      "|         5|   product_5|  128|\n",
      "|         6|   product_6|   66|\n",
      "|         7|   product_7|  145|\n",
      "|         8|   product_8|   51|\n",
      "|         9|   product_9|   44|\n",
      "|        10|  product_10|   53|\n",
      "|        11|  product_11|   13|\n",
      "|        12|  product_12|  104|\n",
      "|        13|  product_13|  102|\n",
      "|        14|  product_14|   24|\n",
      "|        15|  product_15|   14|\n",
      "|        16|  product_16|   38|\n",
      "|        17|  product_17|   72|\n",
      "|        18|  product_18|   16|\n",
      "|        19|  product_19|   46|\n",
      "+----------+------------+-----+\n",
      "only showing top 20 rows\n",
      "\n"
     ]
    }
   ],
   "source": [
    "products_df.show()"
   ]
  },
  {
   "cell_type": "code",
   "execution_count": 6,
   "id": "bd87864b",
   "metadata": {},
   "outputs": [
    {
     "name": "stdout",
     "output_type": "stream",
     "text": [
      "+---------+-----------+------------+\n",
      "|seller_id|seller_name|daily_target|\n",
      "+---------+-----------+------------+\n",
      "|        0|   seller_0|     2500000|\n",
      "|        1|   seller_1|      257237|\n",
      "|        2|   seller_2|      754188|\n",
      "|        3|   seller_3|      310462|\n",
      "|        4|   seller_4|     1532808|\n",
      "|        5|   seller_5|     1199693|\n",
      "|        6|   seller_6|     1055915|\n",
      "|        7|   seller_7|     1946998|\n",
      "|        8|   seller_8|      547320|\n",
      "|        9|   seller_9|     1318051|\n",
      "+---------+-----------+------------+\n",
      "\n"
     ]
    }
   ],
   "source": [
    "sellers_df.show()"
   ]
  },
  {
   "cell_type": "code",
   "execution_count": 6,
   "id": "e933dceb",
   "metadata": {},
   "outputs": [
    {
     "name": "stderr",
     "output_type": "stream",
     "text": [
      "                                                                                \r"
     ]
    },
    {
     "data": {
      "text/plain": [
       "994971"
      ]
     },
     "execution_count": 6,
     "metadata": {},
     "output_type": "execute_result"
    }
   ],
   "source": [
    "# Number of total sales (rows)\n",
    "sales_df.count()"
   ]
  },
  {
   "cell_type": "code",
   "execution_count": 8,
   "id": "31e80f5f",
   "metadata": {},
   "outputs": [
    {
     "data": {
      "text/plain": [
       "75000000"
      ]
     },
     "execution_count": 8,
     "metadata": {},
     "output_type": "execute_result"
    }
   ],
   "source": [
    "# Number of total products (rows)\n",
    "products_df.count()"
   ]
  },
  {
   "cell_type": "code",
   "execution_count": 9,
   "id": "8c99cd29",
   "metadata": {},
   "outputs": [
    {
     "data": {
      "text/plain": [
       "10"
      ]
     },
     "execution_count": 9,
     "metadata": {},
     "output_type": "execute_result"
    }
   ],
   "source": [
    "# Number of total sellers (rows)\n",
    "sellers_df.count()"
   ]
  },
  {
   "cell_type": "markdown",
   "id": "c18a869b",
   "metadata": {},
   "source": [
    "How many products have been sold at least once? Which is the product contained in more orders?"
   ]
  },
  {
   "cell_type": "code",
   "execution_count": 10,
   "id": "602c9df1",
   "metadata": {},
   "outputs": [
    {
     "name": "stderr",
     "output_type": "stream",
     "text": [
      "[Stage 14:===============================================>      (175 + 1) / 200]\r"
     ]
    },
    {
     "name": "stdout",
     "output_type": "stream",
     "text": [
      "+-----------------+\n",
      "|count(product_id)|\n",
      "+-----------------+\n",
      "|           993429|\n",
      "+-----------------+\n",
      "\n"
     ]
    },
    {
     "name": "stderr",
     "output_type": "stream",
     "text": [
      "\r",
      "[Stage 14:====================================================> (193 + 1) / 200]\r",
      "\r",
      "                                                                                \r"
     ]
    }
   ],
   "source": [
    "# Use spark sql functions to count the distinct products in sales table\n",
    "sales_df.agg(countDistinct(col(\"product_id\"))).show()"
   ]
  },
  {
   "cell_type": "code",
   "execution_count": 11,
   "id": "88971e6c",
   "metadata": {},
   "outputs": [
    {
     "name": "stderr",
     "output_type": "stream",
     "text": [
      "[Stage 17:====================================================> (194 + 2) / 200]\r"
     ]
    },
    {
     "name": "stdout",
     "output_type": "stream",
     "text": [
      "+----------+--------+\n",
      "|product_id|   count|\n",
      "+----------+--------+\n",
      "|         0|19000000|\n",
      "+----------+--------+\n",
      "only showing top 1 row\n",
      "\n"
     ]
    },
    {
     "name": "stderr",
     "output_type": "stream",
     "text": [
      "\r",
      "                                                                                \r"
     ]
    }
   ],
   "source": [
    "# Group all product ids, count them, and order from largest count to smallest\n",
    "sales_df.groupBy(col(\"product_id\")).agg(\n",
    "    count(\"*\").alias(\"count\")).orderBy(col(\"count\").desc()).show(1)"
   ]
  },
  {
   "cell_type": "markdown",
   "id": "239e44c0",
   "metadata": {},
   "source": [
    "# Warm-up #2"
   ]
  },
  {
   "cell_type": "markdown",
   "id": "e025d4a6",
   "metadata": {},
   "source": [
    "How many distinct products have been sold in each day?"
   ]
  },
  {
   "cell_type": "code",
   "execution_count": 12,
   "id": "86d4e5d3",
   "metadata": {},
   "outputs": [
    {
     "name": "stderr",
     "output_type": "stream",
     "text": [
      "[Stage 20:===============================>                      (116 + 1) / 200]\r"
     ]
    },
    {
     "name": "stdout",
     "output_type": "stream",
     "text": [
      "+----------+-----------------+\n",
      "|      date|count(product_id)|\n",
      "+----------+-----------------+\n",
      "|2020-07-01|           100337|\n",
      "|2020-07-02|            99807|\n",
      "|2020-07-03|           100017|\n",
      "|2020-07-04|            99791|\n",
      "|2020-07-05|            99796|\n",
      "|2020-07-06|           100765|\n",
      "|2020-07-07|            99756|\n",
      "|2020-07-08|            99662|\n",
      "|2020-07-09|           100501|\n",
      "|2020-07-10|            98973|\n",
      "+----------+-----------------+\n",
      "\n"
     ]
    },
    {
     "name": "stderr",
     "output_type": "stream",
     "text": [
      "\r",
      "[Stage 20:==============================================>       (174 + 2) / 200]\r",
      "\r",
      "                                                                                \r"
     ]
    }
   ],
   "source": [
    "# Group by date, count all distinct products and order from earliest date to most recent date\n",
    "sales_df.groupby(col(\"date\")).agg(countDistinct(col(\"product_id\"))).orderBy(\n",
    "    col(\"date\").asc()).show()"
   ]
  },
  {
   "cell_type": "markdown",
   "id": "eb7fd32e",
   "metadata": {},
   "source": [
    "# Exercise #1"
   ]
  },
  {
   "cell_type": "markdown",
   "id": "9326e580",
   "metadata": {},
   "source": [
    "What is the average revenue of the orders?"
   ]
  },
  {
   "cell_type": "code",
   "execution_count": 7,
   "id": "2257628a",
   "metadata": {},
   "outputs": [],
   "source": [
    "# Join records from sales df and products df.\n",
    "sales_products_merged = sales_df.join(products_df, \n",
    "                                      sales_df.product_id == products_df.product_id,\n",
    "                                      \"inner\")"
   ]
  },
  {
   "cell_type": "code",
   "execution_count": 11,
   "id": "b63b9a30",
   "metadata": {},
   "outputs": [
    {
     "name": "stderr",
     "output_type": "stream",
     "text": [
      "[Stage 11:===================================================>     (9 + 1) / 10]\r"
     ]
    },
    {
     "name": "stdout",
     "output_type": "stream",
     "text": [
      "+--------+----------+---------+----------+---------------+--------------------+----------+----------------+-----+-------+\n",
      "|order_id|product_id|seller_id|      date|num_pieces_sold|       bill_raw_text|product_id|    product_name|price|  Total|\n",
      "+--------+----------+---------+----------+---------------+--------------------+----------+----------------+-----+-------+\n",
      "|12478308|  10005243|        6|2020-07-04|             98|qfvpgiscflyjxphcq...|  10005243|product_10005243|   44| 4312.0|\n",
      "| 8996776|  10023464|        9|2020-07-03|             59|jjbyqkzcimBfoehbv...|  10023464|product_10023464|   19| 1121.0|\n",
      "|10476976|  10050363|        6|2020-07-03|             18|xqhlvkpxtzrfdadry...|  10050363|product_10050363|   98| 1764.0|\n",
      "| 5977582|  10089524|        2|2020-07-01|             53|jchvhzbeaicqitpvx...|  10089524|product_10089524|  100| 5300.0|\n",
      "| 1482892|  10122266|        2|2020-07-07|             25|kezhpglnqigaqwrss...|  10122266|product_10122266|   89| 2225.0|\n",
      "| 2987749|  10134574|        3|2020-07-03|             28|bmtlxvobfmerqlckf...|  10134574|product_10134574|  138| 3864.0|\n",
      "|15982399|  10150439|        4|2020-07-01|             72|rvgiffufcxceotpdn...|  10150439|product_10150439|   71| 5112.0|\n",
      "|12494868|  10158822|        9|2020-07-09|             86|pzrsootkmszwuzpsi...|  10158822|product_10158822|   35| 3010.0|\n",
      "|18485793|  10160884|        7|2020-07-01|             89|goZelczdeypjghxta...|  10160884|product_10160884|   52| 4628.0|\n",
      "| 2499725|  10172594|        2|2020-07-03|             60|gndkqyfadrbiaasna...|  10172594|product_10172594|   81| 4860.0|\n",
      "| 2491769|  10175294|        7|2020-07-09|             29|owrjfdkvctlnpgwcn...|  10175294|product_10175294|  112| 3248.0|\n",
      "| 7996888|   1017716|        9|2020-07-08|             82|khdtupfmrdgaayizq...|   1017716| product_1017716|   66| 5412.0|\n",
      "|17998848|  10200802|        2|2020-07-04|             42|nwtragsmtdzwuddxb...|  10200802|product_10200802|   41| 1722.0|\n",
      "|10978787|  10215353|        1|2020-07-06|             22|qaihdzblvkhjcnqzz...|  10215353|product_10215353|   56| 1232.0|\n",
      "|10985061|  10218345|        4|2020-07-10|             98|ypwtputatDvrxntll...|  10218345|product_10218345|  141|13818.0|\n",
      "|10484807|  10220977|        5|2020-07-10|             76|hfytxferykvmdaope...|  10220977|product_10220977|  132|10032.0|\n",
      "| 6990855|  10255853|        7|2020-07-03|             26|nychcgnenspynymic...|  10255853|product_10255853|  120| 3120.0|\n",
      "|16495205|  10288525|        6|2020-07-06|             63|fynucihpbitrmbcqg...|  10288525|product_10288525|  132| 8316.0|\n",
      "| 1985267|  10304712|        9|2020-07-05|             48|pjlfowgkhrncuboha...|  10304712|product_10304712|   24| 1152.0|\n",
      "|10988195|  10324080|        6|2020-07-04|              5|ypdylfnxjvaphduiy...|  10324080|product_10324080|  130|  650.0|\n",
      "+--------+----------+---------+----------+---------------+--------------------+----------+----------------+-----+-------+\n",
      "only showing top 20 rows\n",
      "\n"
     ]
    },
    {
     "name": "stderr",
     "output_type": "stream",
     "text": [
      "\r",
      "                                                                                \r"
     ]
    }
   ],
   "source": [
    "# Add a 'Total' column that calculates total revenue for each product sold (num_of_pieces sold * the price) \n",
    "Total=sales_products_merged.withColumn(\"Total\",(col(\"num_pieces_sold\")*col(\"price\")))\n",
    "Total.show()"
   ]
  },
  {
   "cell_type": "code",
   "execution_count": 9,
   "id": "715f27b6",
   "metadata": {},
   "outputs": [
    {
     "name": "stderr",
     "output_type": "stream",
     "text": [
      "[Stage 8:======================================================>(198 + 1) / 200]\r"
     ]
    },
    {
     "name": "stdout",
     "output_type": "stream",
     "text": [
      "+-----------------+\n",
      "|       avg(Total)|\n",
      "+-----------------+\n",
      "|3814.589524719816|\n",
      "+-----------------+\n",
      "\n"
     ]
    },
    {
     "name": "stderr",
     "output_type": "stream",
     "text": [
      "\r",
      "                                                                                \r"
     ]
    }
   ],
   "source": [
    "# Create Dataframe that calculatees 'Average' revenue of 'Total' column\n",
    "Avg = Total.select(mean('Total'))\n",
    "Avg.show()"
   ]
  },
  {
   "cell_type": "code",
   "execution_count": null,
   "id": "8e8d0131",
   "metadata": {},
   "outputs": [],
   "source": []
  },
  {
   "cell_type": "code",
   "execution_count": null,
   "id": "17e74417",
   "metadata": {},
   "outputs": [],
   "source": []
  },
  {
   "cell_type": "code",
   "execution_count": null,
   "id": "92bf6b8a",
   "metadata": {},
   "outputs": [],
   "source": []
  },
  {
   "cell_type": "code",
   "execution_count": null,
   "id": "2be8afbc",
   "metadata": {},
   "outputs": [],
   "source": []
  },
  {
   "cell_type": "code",
   "execution_count": null,
   "id": "afba0426",
   "metadata": {},
   "outputs": [],
   "source": []
  }
 ],
 "metadata": {
  "kernelspec": {
   "display_name": "Python 3 (ipykernel)",
   "language": "python",
   "name": "python3"
  },
  "language_info": {
   "codemirror_mode": {
    "name": "ipython",
    "version": 3
   },
   "file_extension": ".py",
   "mimetype": "text/x-python",
   "name": "python",
   "nbconvert_exporter": "python",
   "pygments_lexer": "ipython3",
   "version": "3.9.10"
  }
 },
 "nbformat": 4,
 "nbformat_minor": 5
}
